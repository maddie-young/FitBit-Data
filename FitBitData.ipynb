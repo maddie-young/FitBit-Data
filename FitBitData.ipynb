{
 "cells": [
  {
   "cell_type": "markdown",
   "id": "b5a315cc",
   "metadata": {},
   "source": [
    "In this exercise, we'll use data from my first month using my fitbit to determine if time spent doing moderate and intense cardio had an impact on my quality of sleep the following night."
   ]
  },
  {
   "cell_type": "code",
   "execution_count": null,
   "id": "9d62a528",
   "metadata": {
    "is_executing": true
   },
   "outputs": [],
   "source": [
    "import pandas as pd\n",
    "import numpy as np\n",
    "import matplotlib.pyplot as plt\n",
    "import datetime as dt\n",
    "from scipy.stats.stats import pearsonr\n",
    "\n",
    "# import the cardio activity data, which is separated by month\n",
    "activeSepData = pd.read_csv('/Users/madelineyoung/Desktop/FitBitData/Active Zone Minutes - 2023-09-12.csv')\n",
    "activeOctData = pd.read_csv('/Users/madelineyoung/Desktop/FitBitData/Active Zone Minutes - 2023-10-01.csv')\n",
    "\n",
    "# make sure that these both have the same columns\n",
    "activeSepData.head()\n",
    "activeOctData.head()\n",
    "\n",
    "# concatenate the dataframes\n",
    "activeData = pd.concat([activeSepData, activeOctData], ignore_index=True, sort=False)\n",
    "activeData.head()\n",
    "activeData.tail()"
   ]
  },
  {
   "cell_type": "markdown",
   "source": [],
   "metadata": {
    "collapsed": false
   },
   "id": "b82c231e3f003ebb"
  },
  {
   "cell_type": "code",
   "execution_count": null,
   "id": "e553ea80",
   "metadata": {
    "is_executing": true
   },
   "outputs": [],
   "source": [
    "# import the sleep quality data\n",
    "sleepData = pd.read_csv('/Users/madelineyoung/Desktop/FitBitData/sleepScore_Sep12-Oct11.csv')\n",
    "\n",
    "sleepData.head()"
   ]
  },
  {
   "cell_type": "markdown",
   "id": "e938a99f",
   "metadata": {},
   "source": [
    "We notice that for the sleep dataset, there is one timestamp per day. We are just interested in extracting the day from this. Lets see if the dates for September are formatted \"09\" or \"9\", so we can determine if we'll be able to use string indexing to extract the date."
   ]
  },
  {
   "cell_type": "code",
   "execution_count": null,
   "id": "2e0a20c4",
   "metadata": {
    "scrolled": true,
    "is_executing": true
   },
   "outputs": [],
   "source": [
    "sleepData.tail()\n",
    "sleepData.info()"
   ]
  },
  {
   "cell_type": "markdown",
   "id": "960b5dba",
   "metadata": {},
   "source": [
    "Because single digit months are formatted as 2 digits, it looks like we can use string indexing to extract the dates."
   ]
  },
  {
   "cell_type": "code",
   "execution_count": null,
   "id": "65a522ea",
   "metadata": {
    "is_executing": true
   },
   "outputs": [],
   "source": [
    "timestamps = sleepData['timestamp']\n",
    "dates = []\n",
    "\n",
    "for t in timestamps:\n",
    "    year_month_day = t[0:10]\n",
    "    dates.append(year_month_day)\n",
    "\n",
    "sleepData['timestamp'] = dates\n",
    "\n",
    "sleepData.head()"
   ]
  },
  {
   "cell_type": "markdown",
   "id": "c9321a8b",
   "metadata": {},
   "source": [
    "For the activity data sets, the timestamps correspond to each minute with cardio activity. Again, we are just interested in extracting the date from this. "
   ]
  },
  {
   "cell_type": "code",
   "execution_count": null,
   "id": "e3cb61d1",
   "metadata": {
    "is_executing": true
   },
   "outputs": [],
   "source": [
    "activeData.rename(columns={'date_time': 'timestamp'}, inplace=True)\n",
    "\n",
    "timestamps2 = activeData['timestamp']\n",
    "dates = []\n",
    "\n",
    "for t in timestamps2:\n",
    "    year_month_day = t[0:10]\n",
    "    dates.append(year_month_day)\n",
    "\n",
    "activeData['timestamp'] = dates\n",
    "\n",
    "activeData.head()"
   ]
  },
  {
   "cell_type": "code",
   "execution_count": null,
   "id": "1834311a",
   "metadata": {
    "is_executing": true
   },
   "outputs": [],
   "source": [
    "print(activeData['heart_zone_id'].unique())"
   ]
  },
  {
   "cell_type": "markdown",
   "id": "aaa4e580",
   "metadata": {},
   "source": [
    "Now that we have the timestamps formatted the same way in each dataset, let's sum the minutes spent in each zone per day. Above, we obtained the unique zone names to make sure we don't miss any categories."
   ]
  },
  {
   "cell_type": "code",
   "execution_count": null,
   "id": "0a87bec1",
   "metadata": {
    "is_executing": true
   },
   "outputs": [],
   "source": [
    "unique_dates = activeData['timestamp'].unique()\n",
    "\n",
    "activeDataSums = {'timestamp': [], 'fat_burn': [], 'cardio': [], 'peak': []}\n",
    "\n",
    "for u in unique_dates:\n",
    "    # sum the FAT_BURN minutes first \n",
    "    fat_burn_bool = (activeData['heart_zone_id'] == 'FAT_BURN') & (activeData['timestamp'] == u)\n",
    "    fat_burn = 0 + sum(activeData[fat_burn_bool]['total_minutes'])\n",
    "    cardio_bool = (activeData['heart_zone_id'] == 'CARDIO') & (activeData['timestamp'] == u)\n",
    "    cardio = 0 + sum(activeData[cardio_bool]['total_minutes'])\n",
    "    peak_bool = (activeData['heart_zone_id'] == 'PEAK') & (activeData['timestamp'] == u)\n",
    "    peak = 0 + sum(activeData[peak_bool]['total_minutes'])\n",
    "    activeDataSums['timestamp'].append(u)\n",
    "    activeDataSums['fat_burn'].append(fat_burn)\n",
    "    activeDataSums['cardio'].append(cardio)\n",
    "    activeDataSums['peak'].append(peak)\n",
    "    \n",
    "activeDataSums = pd.DataFrame(data=activeDataSums)\n",
    "activeDataSums.tail(10)\n",
    "\n",
    "# check that all data is accounted for\n",
    "sum1 = sum(activeData['total_minutes'])\n",
    "sum2 = sum(activeDataSums['fat_burn']) + sum(activeDataSums['cardio']) + sum(activeDataSums['peak'])\n",
    "print(sum1)\n",
    "print(sum2)"
   ]
  },
  {
   "cell_type": "markdown",
   "source": [
    "Below, we account for the fact that we want to compare each morning's sleep report against the exercise data from the previos day. We could either add a day to the exercise dates, or subtract a date from the sleep dates. We do the former:"
   ],
   "metadata": {
    "collapsed": false
   },
   "id": "b765211f6393bc5e"
  },
  {
   "cell_type": "code",
   "execution_count": null,
   "id": "a475dead",
   "metadata": {
    "is_executing": true
   },
   "outputs": [],
   "source": [
    "# adjust the dates so that the exercise data is one day ahead. This way when we call the \n",
    "# merge function, the previous day of exercise will correspond to each night of sleep\n",
    "activeDataSums['timestamp'] = pd.to_datetime(activeDataSums['timestamp'], format='%Y-%m-%d')\n",
    "activeDataSums['timestamp'] = activeDataSums['timestamp'] + dt.timedelta(days=1)\n",
    "\n",
    "# convert the dates in sleepData to datetimes as well\n",
    "sleepData['timestamp'] = pd.to_datetime(sleepData['timestamp'], format='%Y-%m-%d')\n",
    "\n",
    "# concatenate the datasets\n",
    "combined = pd.merge(left=sleepData, right=activeDataSums, on='timestamp')\n",
    "combined['total heart zones'] = combined['fat_burn'] + combined['cardio'] + combined['peak']\n",
    "combined['upper heart zones'] = combined['cardio'] + combined['peak']\n",
    "combined.tail()"
   ]
  },
  {
   "cell_type": "markdown",
   "source": [
    "Now that the datasets are combined, let's do a Pearson R calculation for total minutes in cardio zones and minutes in upper cardio zones with each FitBit sleep evaluation category."
   ],
   "metadata": {
    "collapsed": false
   },
   "id": "37ff8c13b1994d21"
  },
  {
   "cell_type": "code",
   "execution_count": null,
   "id": "f4cf8f94",
   "metadata": {
    "is_executing": true
   },
   "outputs": [],
   "source": [
    "print('total heart rate zones and overall score:', pearsonr(combined['total heart zones'], combined['overall_score']))\n",
    "print('upper heart rate zones and overall score:', pearsonr(combined[\"upper heart zones\"], combined['overall_score']))\n",
    "print('total heart rate zones and composition score:', pearsonr(combined['total heart zones'], combined['composition_score']))\n",
    "print('upper heart rate zones and composition score:', pearsonr(combined[\"upper heart zones\"], combined['composition_score']))\n",
    "print('total heart rate zones and revitalization score:', pearsonr(combined['total heart zones'], combined['revitalization_score']))\n",
    "print('upper heart rate zones and revitalization score:', pearsonr(combined[\"upper heart zones\"], combined['revitalization_score']))\n",
    "print('total heart rate zones and duration score:', pearsonr(combined['total heart zones'], combined['duration_score']))\n",
    "print('upper heart rate zones and duration score:', pearsonr(combined[\"upper heart zones\"], combined['duration_score']))\n",
    "print('total heart rate zones and minutes in deep sleep:', pearsonr(combined['total heart zones'], combined['deep_sleep_in_minutes']))\n",
    "print('upper heart rate zones and minutes in deep sleep:', pearsonr(combined[\"upper heart zones\"], combined['deep_sleep_in_minutes']))\n",
    "print('total heart rate zones and resting heart rate:', pearsonr(combined['total heart zones'], combined['resting_heart_rate']))\n",
    "print('upper heart rate zones and resting heart rate:', pearsonr(combined[\"upper heart zones\"], combined['resting_heart_rate']))\n",
    "print('total heart rate zones and restlessness:', pearsonr(combined['total heart zones'], combined['restlessness']))\n",
    "print('total heart rate zones and restlessness:', pearsonr(combined[\"upper heart zones\"], combined['restlessness']))"
   ]
  },
  {
   "cell_type": "markdown",
   "id": "c48a186d",
   "metadata": {},
   "source": [
    "There was a negative correlation between my sleep composition score and time spent in upper heart zone ranges, and a negative correlation between time spent in all elevated heart zones and my revitalization score. There was also a positive correlation between time spent in all elevated heart zones and my restlessness.\n",
    "\n",
    "Let's plot these datasets to visualize these findings."
   ]
  },
  {
   "cell_type": "code",
   "execution_count": null,
   "outputs": [],
   "source": [
    "plt.figure(figsize=(12, 26))\n",
    "plt.subplot(4,2,1)\n",
    "plt.subplot(4,2,2)\n",
    "plt.subplot(4,2,3)\n",
    "\n",
    "plt.subplot(7,2,1)\n",
    "plt.scatter(combined['total heart zones'], combined['revitalization_score'])\n",
    "plt.xlabel('Minutes in all zones')\n",
    "plt.ylabel('revitalization_score')\n",
    "\n",
    "plt.subplot(7,2,2)\n",
    "plt.scatter(combined['total heart zones'], combined['restlessness'])\n",
    "plt.xlabel('Minutes in all zones')\n",
    "plt.ylabel('restlessness')\n",
    "\n",
    "plt.subplot(7,2,3)\n",
    "plt.scatter(combined[\"upper heart zones\"], combined['composition_score'])\n",
    "plt.xlabel('Minutes in upper zones')\n",
    "plt.ylabel('composition_score')"
   ],
   "metadata": {
    "collapsed": false,
    "is_executing": true
   },
   "id": "90adb575caf1d1c6"
  },
  {
   "cell_type": "markdown",
   "source": [
    "It's possible that there are some outlying data points skewing the outcome of these tests, especially for the revitalization score v.s. minutes in all elevated zones and composition score v.s. minutes in upper zones. I'll need to test these again when I have more data and identify any inflection points, where trends reverse with a certain amount of total minutes in elevated heart rate zones."
   ],
   "metadata": {
    "collapsed": false
   },
   "id": "1d67c98271a7fc4a"
  }
 ],
 "metadata": {
  "kernelspec": {
   "display_name": "Python 3",
   "language": "python",
   "name": "python3"
  },
  "language_info": {
   "codemirror_mode": {
    "name": "ipython",
    "version": 3
   },
   "file_extension": ".py",
   "mimetype": "text/x-python",
   "name": "python",
   "nbconvert_exporter": "python",
   "pygments_lexer": "ipython3",
   "version": "3.8.8"
  }
 },
 "nbformat": 4,
 "nbformat_minor": 5
}
